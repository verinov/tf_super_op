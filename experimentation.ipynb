{
 "cells": [
  {
   "cell_type": "markdown",
   "metadata": {},
   "source": [
    "# Basic usage"
   ]
  },
  {
   "cell_type": "code",
   "execution_count": 1,
   "metadata": {},
   "outputs": [],
   "source": [
    "import tensorflow as tf\n",
    "import numpy as np\n",
    "\n",
    "from super_op import SuperOp\n",
    "\n",
    "N = 3 # 100\n",
    "\n",
    "x = tf.ones((N,))\n",
    "a = tf.ones((N,)) * 81\n",
    "\n",
    "super_op = SuperOp()\n",
    "\n",
    "@super_op\n",
    "def f(x):\n",
    "    return (x + a / x) * 0.5\n"
   ]
  },
  {
   "cell_type": "code",
   "execution_count": 2,
   "metadata": {},
   "outputs": [
    {
     "data": {
      "text/plain": [
       "Tensor(\"Identity:0\", shape=(3,), dtype=float32)(139772279188496)"
      ]
     },
     "execution_count": 2,
     "metadata": {},
     "output_type": "execute_result"
    }
   ],
   "source": [
    "y = x\n",
    "for i in range(10):\n",
    "    y = f(y)\n",
    "y"
   ]
  },
  {
   "cell_type": "code",
   "execution_count": 3,
   "metadata": {},
   "outputs": [
    {
     "data": {
      "text/plain": [
       "[{1: <tf.Tensor: shape=(3,), dtype=float32, numpy=array([9., 9., 9.], dtype=float32)>},\n",
       " <tf.Tensor: shape=(3,), dtype=float32, numpy=array([1., 1., 1.], dtype=float32)>]"
      ]
     },
     "execution_count": 3,
     "metadata": {},
     "output_type": "execute_result"
    }
   ],
   "source": [
    "super_op.compute(results=[{1: y}, x])"
   ]
  },
  {
   "cell_type": "code",
   "execution_count": null,
   "metadata": {},
   "outputs": [],
   "source": []
  },
  {
   "cell_type": "code",
   "execution_count": 4,
   "metadata": {},
   "outputs": [],
   "source": [
    "from super_op import SuperOp\n",
    "\n",
    "N = 100\n",
    "\n",
    "x = tf.ones((N,))\n",
    "a = tf.ones((N,)) * 81\n",
    "\n",
    "@tf.function(autograph=False, experimental_compile=True)\n",
    "def fn(x, a, n):\n",
    "    super_op = SuperOp()\n",
    "\n",
    "    @super_op\n",
    "    def f(x, a):\n",
    "        return (x + a / x) * 0.5\n",
    "\n",
    "    for i in range(n):\n",
    "        x = f(x, a)\n",
    "    return super_op.compute(results=x)"
   ]
  },
  {
   "cell_type": "code",
   "execution_count": 5,
   "metadata": {},
   "outputs": [
    {
     "name": "stdout",
     "output_type": "stream",
     "text": [
      "CPU times: user 812 ms, sys: 62.5 ms, total: 875 ms\n",
      "Wall time: 851 ms\n"
     ]
    }
   ],
   "source": [
    "%%time\n",
    "y = fn(x, a, 500)"
   ]
  },
  {
   "cell_type": "code",
   "execution_count": 6,
   "metadata": {},
   "outputs": [
    {
     "name": "stdout",
     "output_type": "stream",
     "text": [
      "8.51 ms ± 58.5 µs per loop (mean ± std. dev. of 7 runs, 100 loops each)\n"
     ]
    }
   ],
   "source": [
    "%%timeit\n",
    "y = fn(x, a, 500)"
   ]
  },
  {
   "cell_type": "code",
   "execution_count": 10,
   "metadata": {},
   "outputs": [
    {
     "data": {
      "text/plain": [
       "9.0"
      ]
     },
     "execution_count": 10,
     "metadata": {},
     "output_type": "execute_result"
    }
   ],
   "source": [
    "y[0].numpy()"
   ]
  },
  {
   "cell_type": "code",
   "execution_count": null,
   "metadata": {},
   "outputs": [],
   "source": []
  },
  {
   "cell_type": "markdown",
   "metadata": {},
   "source": [
    "# Test while_loop parallelism with TAs"
   ]
  },
  {
   "cell_type": "code",
   "execution_count": 28,
   "metadata": {},
   "outputs": [],
   "source": [
    "n_steps = 10\n",
    "\n",
    "@tf.function(autograph=True, experimental_compile=True)\n",
    "def fn(x, a):\n",
    "    ta0 = tf.TensorArray(tf.float32, size=n_steps + 1)\n",
    "    ta1 = tf.TensorArray(tf.float32, size=n_steps + 1)\n",
    "    ta0 = ta1.write(0, x)\n",
    "    ta1 = ta2.write(0, x)\n",
    "    \n",
    "    def body(i, ta0, ta1):\n",
    "        def f0():\n",
    "            pos = i // 2\n",
    "            x = ta0.read(pos)\n",
    "            return (\n",
    "                i + 1,\n",
    "                ta0.write(1 + pos, (x + a / x) * 0.5),\n",
    "                ta1,\n",
    "            )\n",
    "        def f1():\n",
    "            pos = i // 2\n",
    "            x = ta1.read(pos)\n",
    "            return (\n",
    "                i + 1,\n",
    "                ta0,\n",
    "                ta1.write(1 + i // 2, (x + a / x) * 0.5),\n",
    "            )\n",
    "        return tf.switch_case(\n",
    "            tf.cast(i % 2, int),\n",
    "            branch_fns=[f0, f1],\n",
    "        )\n",
    "\n",
    "    _, ta0, ta1 = tf.while_loop(\n",
    "        lambda i, ta1, ta2: tf.less(i, 2 * n_steps),\n",
    "        body,\n",
    "        [tf.constant(0), ta1, ta2],\n",
    "    )\n",
    "    return ta0.read(n_steps), ta1.read(n_steps)"
   ]
  },
  {
   "cell_type": "code",
   "execution_count": 47,
   "metadata": {},
   "outputs": [],
   "source": [
    "n_steps = 1000\n",
    "\n",
    "@tf.function(autograph=True, experimental_compile=True)\n",
    "def fn(x, a):\n",
    "    ta = tf.TensorArray(tf.float32, size=n_steps + 1)\n",
    "    ta = ta.write(0, x).write(1, x)\n",
    "    \n",
    "    def body(i, ta):\n",
    "        x = ta.read(i)\n",
    "        return i + 1, ta.write(i + 2, (x + a / x) * 0.5)\n",
    "\n",
    "    _, ta = tf.while_loop(\n",
    "        lambda i, ta: tf.less(i, n_steps),\n",
    "        body,\n",
    "        [tf.constant(0), ta],\n",
    "    )\n",
    "    return ta.read(n_steps)"
   ]
  },
  {
   "cell_type": "code",
   "execution_count": 48,
   "metadata": {},
   "outputs": [
    {
     "name": "stdout",
     "output_type": "stream",
     "text": [
      "951 µs ± 16.2 µs per loop (mean ± std. dev. of 7 runs, 1000 loops each)\n"
     ]
    }
   ],
   "source": [
    "%%timeit\n",
    "y = fn(x, a)"
   ]
  },
  {
   "cell_type": "code",
   "execution_count": null,
   "metadata": {},
   "outputs": [],
   "source": []
  },
  {
   "cell_type": "code",
   "execution_count": 258,
   "metadata": {},
   "outputs": [],
   "source": [
    "n_steps = 1000\n",
    "n = 4\n",
    "\n",
    "@tf.function(autograph=True, experimental_compile=True)\n",
    "def fn(x, a):\n",
    "    ta = tf.TensorArray(tf.float32, size=n_steps + 1)\n",
    "    ta = ta.write(0, x)\n",
    "    \n",
    "    def body(i, ta):\n",
    "        def fi():\n",
    "            x = ta.read(i)\n",
    "            return x + 1 # (x + a / x) * 0.5\n",
    "#         v = fi()\n",
    "        v = tf.switch_case(\n",
    "            i % tf.constant(n),\n",
    "            branch_fns=[fi for _ in range(n)],\n",
    "        )\n",
    "#         v = ta.read(i) + 1\n",
    "        return i + 1, ta.write(i + 1, v)\n",
    "\n",
    "    _, ta = tf.while_loop(\n",
    "        lambda i, ta: tf.less(i, n_steps + 1),\n",
    "        body,\n",
    "        [tf.constant(0), ta],\n",
    "    )\n",
    "    return ta.read(n_steps)"
   ]
  },
  {
   "cell_type": "code",
   "execution_count": 260,
   "metadata": {},
   "outputs": [
    {
     "name": "stdout",
     "output_type": "stream",
     "text": [
      "CPU times: user 156 ms, sys: 0 ns, total: 156 ms\n",
      "Wall time: 171 ms\n"
     ]
    }
   ],
   "source": [
    "%%time\n",
    "for _ in range(1000):\n",
    "    y = fn(x, a)"
   ]
  },
  {
   "cell_type": "code",
   "execution_count": null,
   "metadata": {},
   "outputs": [],
   "source": []
  },
  {
   "cell_type": "code",
   "execution_count": 1,
   "metadata": {},
   "outputs": [],
   "source": [
    "import tensorflow as tf\n",
    "import numpy as np\n",
    "\n",
    "n_steps = 1000\n",
    "n = 10\n",
    "N = 20\n",
    "\n",
    "x = tf.ones((N, N))\n",
    "W = tf.eye(N)\n",
    "\n",
    "def fn_grad(fn):\n",
    "    @tf.function(autograph=False, experimental_compile=True)\n",
    "    def wrapped(x):\n",
    "        with tf.GradientTape() as tape:\n",
    "            tape.watch(W)\n",
    "            y = fn(x)\n",
    "        return tape.gradient(y, W)\n",
    "    return wrapped\n",
    "\n",
    "# @fn_grad\n",
    "@tf.function(autograph=False, experimental_compile=False)\n",
    "def fn(x):\n",
    "    def body(i, x):\n",
    "        return i + 1, x @ W\n",
    "\n",
    "    _, x = tf.while_loop(\n",
    "        lambda i, x: tf.less(i, n_steps),\n",
    "        body,\n",
    "        [tf.constant(0), x],\n",
    "        maximum_iterations=n_steps,\n",
    "    )\n",
    "    return x\n",
    "\n",
    "@fn_grad\n",
    "@tf.function(autograph=False, experimental_compile=True)\n",
    "def fn_case(x):\n",
    "    def body(i, x):\n",
    "        def fi():\n",
    "            return x @ W\n",
    "\n",
    "        return i + 1, tf.switch_case(\n",
    "            i % tf.constant(n),\n",
    "            branch_fns=[fi for _ in range(n)],\n",
    "        )\n",
    "\n",
    "    _, x = tf.while_loop(\n",
    "        lambda i, x: tf.less(i, n_steps),\n",
    "        body,\n",
    "        [tf.constant(0), x],\n",
    "        maximum_iterations=n_steps,\n",
    "    )\n",
    "    return x\n",
    "\n",
    "@fn_grad\n",
    "@tf.function(autograph=False, experimental_compile=True)\n",
    "def fn_unroll(x):\n",
    "    for i in range(n_steps):\n",
    "        x = x @ W\n",
    "    return x\n",
    "\n",
    "@fn_grad\n",
    "@tf.function(autograph=False, experimental_compile=True)\n",
    "def fn_case_3(x):\n",
    "    def body(i, x1, x2, x3):\n",
    "\n",
    "        return (i + 1, *tf.switch_case(\n",
    "            i % tf.constant(3),\n",
    "            branch_fns=[\n",
    "                lambda: (x1, x1 @ W, x1),\n",
    "                lambda: (x2, x2, x2 @ W),\n",
    "                lambda: (x3 @ W, x3, x3),\n",
    "            ],\n",
    "        ))\n",
    "\n",
    "    _, x1, x2, x3 = tf.while_loop(\n",
    "        lambda i, *xs: tf.less(i, n_steps),\n",
    "        body,\n",
    "        [tf.constant(0), x, x, x],\n",
    "        maximum_iterations=n_steps,\n",
    "    )\n",
    "    return x2\n",
    "\n",
    "@fn_grad\n",
    "@tf.function(autograph=False, experimental_compile=True)\n",
    "def fn_hop(x):\n",
    "    def body(i, x1, x2):\n",
    "        return i + 1, x2, x1 @ W\n",
    "\n",
    "    _, _, x = tf.while_loop(\n",
    "        lambda i, x1, x2: tf.less(i, n_steps),\n",
    "        body,\n",
    "        [tf.constant(0), x, x],\n",
    "        maximum_iterations=n_steps,\n",
    "    )\n",
    "    return x"
   ]
  },
  {
   "cell_type": "code",
   "execution_count": 2,
   "metadata": {},
   "outputs": [],
   "source": [
    "from super_op import SuperOp\n",
    "\n",
    "# @fn_grad\n",
    "@tf.function(autograph=False, experimental_compile=False)\n",
    "def fn_super(x):\n",
    "    super_op = SuperOp()\n",
    "\n",
    "    @super_op\n",
    "    def f(x):\n",
    "        return x @ W\n",
    "\n",
    "    for i in range(n_steps):\n",
    "        x = f(x)\n",
    "    return super_op.compute(results=x)"
   ]
  },
  {
   "cell_type": "code",
   "execution_count": 16,
   "metadata": {},
   "outputs": [
    {
     "name": "stdout",
     "output_type": "stream",
     "text": [
      "CPU times: user 15.6 ms, sys: 0 ns, total: 15.6 ms\n",
      "Wall time: 8.23 ms\n"
     ]
    }
   ],
   "source": [
    "%%time\n",
    "y = fn(x)"
   ]
  },
  {
   "cell_type": "code",
   "execution_count": 18,
   "metadata": {},
   "outputs": [],
   "source": [
    "with tf.profiler.experimental.Profile('logdir2'):\n",
    "    for _ in range(1000):\n",
    "        y = fn(x)"
   ]
  },
  {
   "cell_type": "code",
   "execution_count": null,
   "metadata": {},
   "outputs": [],
   "source": []
  },
  {
   "cell_type": "code",
   "execution_count": 5,
   "metadata": {},
   "outputs": [
    {
     "name": "stdout",
     "output_type": "stream",
     "text": [
      "CPU times: user 93.8 ms, sys: 0 ns, total: 93.8 ms\n",
      "Wall time: 82.7 ms\n"
     ]
    }
   ],
   "source": [
    "%%time\n",
    "y = fn_super(x)"
   ]
  },
  {
   "cell_type": "code",
   "execution_count": 7,
   "metadata": {},
   "outputs": [],
   "source": [
    "with tf.profiler.experimental.Profile('logdir'):\n",
    "    for _ in range(10):\n",
    "        y = fn_super(x)"
   ]
  },
  {
   "cell_type": "code",
   "execution_count": null,
   "metadata": {},
   "outputs": [],
   "source": []
  },
  {
   "cell_type": "code",
   "execution_count": 8,
   "metadata": {},
   "outputs": [
    {
     "name": "stdout",
     "output_type": "stream",
     "text": [
      "CPU times: user 15.6 ms, sys: 15.6 ms, total: 31.2 ms\n",
      "Wall time: 4.68 ms\n"
     ]
    }
   ],
   "source": [
    "%%time\n",
    "y = fn_hop(x)"
   ]
  },
  {
   "cell_type": "code",
   "execution_count": 7,
   "metadata": {},
   "outputs": [
    {
     "name": "stdout",
     "output_type": "stream",
     "text": [
      "CPU times: user 0 ns, sys: 0 ns, total: 0 ns\n",
      "Wall time: 3.83 ms\n"
     ]
    }
   ],
   "source": [
    "%%time\n",
    "y = fn_case(x)"
   ]
  },
  {
   "cell_type": "code",
   "execution_count": 9,
   "metadata": {},
   "outputs": [
    {
     "name": "stdout",
     "output_type": "stream",
     "text": [
      "CPU times: user 8.8 s, sys: 125 ms, total: 8.92 s\n",
      "Wall time: 8.97 s\n"
     ]
    }
   ],
   "source": [
    "%%time\n",
    "y = fn_unroll(x)"
   ]
  },
  {
   "cell_type": "code",
   "execution_count": 11,
   "metadata": {},
   "outputs": [
    {
     "name": "stdout",
     "output_type": "stream",
     "text": [
      "CPU times: user 0 ns, sys: 0 ns, total: 0 ns\n",
      "Wall time: 5.84 ms\n"
     ]
    }
   ],
   "source": [
    "%%time\n",
    "y = fn_case_3(x)"
   ]
  },
  {
   "cell_type": "code",
   "execution_count": null,
   "metadata": {},
   "outputs": [],
   "source": []
  }
 ],
 "metadata": {
  "kernelspec": {
   "display_name": "Python 3",
   "language": "python",
   "name": "python3"
  },
  "language_info": {
   "codemirror_mode": {
    "name": "ipython",
    "version": 3
   },
   "file_extension": ".py",
   "mimetype": "text/x-python",
   "name": "python",
   "nbconvert_exporter": "python",
   "pygments_lexer": "ipython3",
   "version": "3.8.3"
  }
 },
 "nbformat": 4,
 "nbformat_minor": 4
}
